{
 "cells": [
  {
   "cell_type": "markdown",
   "id": "79690c7c",
   "metadata": {},
   "source": [
    "## Delete the elements in an linked list whose sum is equal to zero"
   ]
  },
  {
   "cell_type": "code",
   "execution_count": 121,
   "id": "61be769c",
   "metadata": {},
   "outputs": [
    {
     "name": "stdout",
     "output_type": "stream",
     "text": [
      "[20, 25]\n"
     ]
    }
   ],
   "source": [
    "class Node():\n",
    "    def __init__(self,data):\n",
    "        self.data = data\n",
    "        self.next = None\n",
    "\n",
    "class Linkedlist():\n",
    "    def __init__(self):\n",
    "        self.head = None\n",
    "    \n",
    "    def append(self,data):\n",
    "        new_node = Node(data)\n",
    "        h = self.head\n",
    "        if self.head is None:\n",
    "            self.head = new_node\n",
    "            return\n",
    "        else:\n",
    "            while h.next!=None:\n",
    "                h = h.next\n",
    "            h.next = new_node\n",
    "\n",
    "    def remove_zeros_from_linkedlist(self, head):\n",
    "        stack = []\n",
    "        curr = head\n",
    "        list = []\n",
    "        while (curr):\n",
    "            if curr.data >= 0:\n",
    "                stack.append(curr)\n",
    "            else:\n",
    "                temp = curr\n",
    "                sum = temp.data\n",
    "                flag = False\n",
    "                while (len(stack) != 0):\n",
    "                    temp2 = stack.pop()\n",
    "                    sum += temp2.data\n",
    "                    if sum == 0:\n",
    "                        flag = True\n",
    "                        list = []\n",
    "                        break\n",
    "                    elif sum > 0:\n",
    "                        list.append(temp2)\n",
    "                if not flag:\n",
    "                    if len(list) > 0:\n",
    "                        for i in range(len(list)):\n",
    "                            stack.append(list.pop())\n",
    "                    stack.append(temp)\n",
    "            curr = curr.next\n",
    "        return [i.data for i in stack]\n",
    "\n",
    "l = Linkedlist()\n",
    "l.append(4)\n",
    "l.append(6)\n",
    "l.append(-10)\n",
    "l.append(8)\n",
    "l.append(9)\n",
    "l.append(10)\n",
    "l.append(-19)\n",
    "l.append(10)\n",
    "l.append(-18)\n",
    "l.append(20)\n",
    "l.append(25)\n",
    "print(l.remove_zeros_from_linkedlist(l.head))"
   ]
  },
  {
   "cell_type": "markdown",
   "id": "21a8af38",
   "metadata": {},
   "source": [
    "## Reverse a linked list in groups of given size"
   ]
  },
  {
   "cell_type": "code",
   "execution_count": 123,
   "id": "5b6c1d31",
   "metadata": {},
   "outputs": [
    {
     "name": "stdout",
     "output_type": "stream",
     "text": [
      "Given linked list\n",
      "1 2 3 4 5 6 7 8 9 \n",
      "Reversed Linked list\n",
      "3 2 1 6 5 4 9 8 7 "
     ]
    }
   ],
   "source": [
    "class Node:\n",
    "    def __init__(self, data):\n",
    "        self.data = data\n",
    "        self.next = None\n",
    "\n",
    "class LinkedList:\n",
    "    def __init__(self):\n",
    "        self.head = None\n",
    " \n",
    "    def reverse(self, head, k):\n",
    "        if head == None:\n",
    "            return None\n",
    "        current = head\n",
    "        next = None\n",
    "        prev = None\n",
    "        count = 0\n",
    "        while(current is not None and count < k):\n",
    "            next = current.next\n",
    "            current.next = prev\n",
    "            prev = current\n",
    "            current = next\n",
    "            count += 1\n",
    " \n",
    "        if next is not None:\n",
    "            head.next = self.reverse(next, k)\n",
    "        return prev\n",
    " \n",
    "    def push(self, new_data):\n",
    "        new_node = Node(new_data)\n",
    "        new_node.next = self.head\n",
    "        self.head = new_node\n",
    "\n",
    "    def printList(self):\n",
    "        temp = self.head\n",
    "        while(temp):\n",
    "            print(temp.data,end=' ')\n",
    "            temp = temp.next\n",
    " \n",
    " \n",
    "\n",
    "llist = LinkedList()\n",
    "llist.push(9)\n",
    "llist.push(8)\n",
    "llist.push(7)\n",
    "llist.push(6)\n",
    "llist.push(5)\n",
    "llist.push(4)\n",
    "llist.push(3)\n",
    "llist.push(2)\n",
    "llist.push(1)\n",
    " \n",
    "print(\"Given linked list\")\n",
    "llist.printList()\n",
    "llist.head = llist.reverse(llist.head, 3)\n",
    " \n",
    "print (\"\\nReversed Linked list\")\n",
    "llist.printList()"
   ]
  },
  {
   "cell_type": "markdown",
   "id": "3a1afbcf",
   "metadata": {},
   "source": [
    "## Merge a linked list into another linked list at alternate positions."
   ]
  },
  {
   "cell_type": "code",
   "execution_count": 124,
   "id": "8fd6fc9b",
   "metadata": {},
   "outputs": [
    {
     "name": "stdout",
     "output_type": "stream",
     "text": [
      "First Linked List:\n",
      "0\n",
      "1\n",
      "2\n",
      "3\n",
      "Second Linked List:\n",
      "4\n",
      "5\n",
      "6\n",
      "7\n",
      "8\n",
      "Modified first linked list:\n",
      "0\n",
      "4\n",
      "1\n",
      "5\n",
      "2\n",
      "6\n",
      "3\n",
      "7\n",
      "Modified second linked list:\n",
      "8\n"
     ]
    }
   ],
   "source": [
    "class Node(object):\n",
    "    def __init__(self, data:int):\n",
    "        self.data = data\n",
    "        self.next = None\n",
    "\n",
    "class LinkedList(object):\n",
    "    def __init__(self):\n",
    "        self.head = None\n",
    "         \n",
    "    def push(self, new_data:int):\n",
    "        new_node = Node(new_data)\n",
    "        new_node.next = self.head\n",
    "        self.head = new_node\n",
    "         \n",
    "    def printList(self):\n",
    "        temp = self.head\n",
    "        while temp != None:\n",
    "            print(temp.data)\n",
    "            temp = temp.next\n",
    "             \n",
    "    def merge(self, p, q):\n",
    "        p_curr = p.head\n",
    "        q_curr = q.head\n",
    " \n",
    "        while p_curr != None and q_curr != None:\n",
    " \n",
    "            p_next = p_curr.next\n",
    "            q_next = q_curr.next\n",
    " \n",
    "            q_curr.next = p_next\n",
    "            p_curr.next = q_curr\n",
    " \n",
    "            p_curr = p_next\n",
    "            q_curr = q_next\n",
    "            q.head = q_curr\n",
    " \n",
    " \n",
    "llist1 = LinkedList()\n",
    "llist2 = LinkedList()\n",
    " \n",
    "\n",
    "llist1.push(3)\n",
    "llist1.push(2)\n",
    "llist1.push(1)\n",
    "llist1.push(0)\n",
    " \n",
    "\n",
    "for i in range(8, 3, -1):\n",
    "    llist2.push(i)\n",
    "\n",
    "print(\"First Linked List:\")\n",
    "llist1.printList()\n",
    " \n",
    "print(\"Second Linked List:\")\n",
    "llist2.printList()\n",
    "\n",
    "llist1.merge(p=llist1, q=llist2)\n",
    " \n",
    "print(\"Modified first linked list:\")\n",
    "llist1.printList()\n",
    " \n",
    "print(\"Modified second linked list:\")\n",
    "llist2.printList()"
   ]
  },
  {
   "cell_type": "markdown",
   "id": "632e2bc6",
   "metadata": {},
   "source": [
    "## In an array, Count Pairs with given sum"
   ]
  },
  {
   "cell_type": "code",
   "execution_count": 43,
   "id": "824c2d2c",
   "metadata": {},
   "outputs": [
    {
     "name": "stdout",
     "output_type": "stream",
     "text": [
      "3\n"
     ]
    }
   ],
   "source": [
    "def count_pairs(arr,sum):\n",
    "    count = 0\n",
    "    for i in range(len(arr)):\n",
    "        for j in range(i+1,len(arr)):\n",
    "            if arr[i] + arr[j] == sum:\n",
    "                count += 1\n",
    "    print(count)\n",
    "            \n",
    "arr = [1, 5, 7, -1, 5]\n",
    "sum = 6\n",
    "count_pairs(arr,sum)"
   ]
  },
  {
   "cell_type": "markdown",
   "id": "fb4b762a",
   "metadata": {},
   "source": [
    "## Find duplicates in an array"
   ]
  },
  {
   "cell_type": "code",
   "execution_count": 51,
   "id": "4bf688be",
   "metadata": {},
   "outputs": [
    {
     "name": "stdout",
     "output_type": "stream",
     "text": [
      "index is: 0,and the number is: 1\n",
      "index is: 1,and the number is: 5\n"
     ]
    }
   ],
   "source": [
    "def find_duplicates(arr):\n",
    "    for i in range(len(arr)):\n",
    "        for j in range(i+1,len(arr)):\n",
    "            if arr[i] == arr[j]:\n",
    "                print(f'index is: {i},and the number is: {arr[i]}')\n",
    "                \n",
    "arr = [1, 5, 7, 1, 5]\n",
    "find_duplicates(arr)"
   ]
  },
  {
   "cell_type": "markdown",
   "id": "9740d085",
   "metadata": {},
   "source": [
    "## Find the Kth largest and Kth smallest number in an array"
   ]
  },
  {
   "cell_type": "code",
   "execution_count": 125,
   "id": "a9ab3f1c",
   "metadata": {},
   "outputs": [
    {
     "data": {
      "text/plain": [
       "'The Kth smallest element is 5 and the Kth largest element is 12'"
      ]
     },
     "execution_count": 125,
     "metadata": {},
     "output_type": "execute_result"
    }
   ],
   "source": [
    "def largest_smallest(arr, k):\n",
    "    arr.sort()\n",
    "    return f'The Kth smallest element is {arr[k-1]} and the Kth largest element is {arr[-k]}'\n",
    "\n",
    "arr = [12, 3, 5, 7, 19]\n",
    "k = 2\n",
    "largest_smallest(arr, k)"
   ]
  },
  {
   "cell_type": "markdown",
   "id": "26cccccc",
   "metadata": {},
   "source": [
    "## Move all the negative elements to one side of the array"
   ]
  },
  {
   "cell_type": "code",
   "execution_count": 126,
   "id": "ca989351",
   "metadata": {},
   "outputs": [
    {
     "data": {
      "text/plain": [
       "[-1, -5, -7, 1, 5, 7]"
      ]
     },
     "execution_count": 126,
     "metadata": {},
     "output_type": "execute_result"
    }
   ],
   "source": [
    "def list_negative(arr,n):\n",
    "    l = [arr[i] for i in range(n) if arr[i] < 0]\n",
    "    for i in arr:\n",
    "        if i not in l:\n",
    "            l.append(i)\n",
    "    return l\n",
    "\n",
    "        \n",
    "arr = [1, 5, 7, -1, -5,-7]\n",
    "n = len(arr)\n",
    "list_negative(arr,n)"
   ]
  },
  {
   "cell_type": "markdown",
   "id": "caa43a47",
   "metadata": {},
   "source": [
    "## Reverse a string using a stack data structure"
   ]
  },
  {
   "cell_type": "code",
   "execution_count": 127,
   "id": "cb43effb",
   "metadata": {},
   "outputs": [
    {
     "data": {
      "text/plain": [
       "'gnirtS'"
      ]
     },
     "execution_count": 127,
     "metadata": {},
     "output_type": "execute_result"
    }
   ],
   "source": [
    "def rev_string(string):\n",
    "    string = list(string)\n",
    "    stack = []\n",
    "    rev = ''\n",
    "    while len(string) != 0:\n",
    "        p = string.pop()\n",
    "        stack.append(p)\n",
    "        q = stack.pop()\n",
    "        rev +=q\n",
    "    return rev\n",
    "\n",
    "string = \"String\"\n",
    "rev_string(string)"
   ]
  },
  {
   "cell_type": "markdown",
   "id": "430430fd",
   "metadata": {},
   "source": [
    "## Evaluate a postfix expression using stack"
   ]
  },
  {
   "cell_type": "code",
   "execution_count": 117,
   "id": "4147238a",
   "metadata": {},
   "outputs": [
    {
     "name": "stdout",
     "output_type": "stream",
     "text": [
      "postfix evaluation: -4\n"
     ]
    }
   ],
   "source": [
    "class Evaluate:\n",
    "     \n",
    "    def __init__(self, capacity):\n",
    "        self.top = -1\n",
    "        self.capacity = capacity\n",
    "        self.array = []\n",
    "     \n",
    "    def isEmpty(self):\n",
    "        return True if self.top == -1 else False\n",
    "     \n",
    "    def peek(self):\n",
    "        return self.array[-1]\n",
    "     \n",
    "    def pop(self):\n",
    "        if not self.isEmpty():\n",
    "            self.top -= 1\n",
    "            return self.array.pop()\n",
    "        else:\n",
    "            return \"$\"\n",
    "     \n",
    "    def push(self, op):\n",
    "        self.top += 1\n",
    "        self.array.append(op)\n",
    " \n",
    " \n",
    "    def evaluatePostfix(self, exp):\n",
    "        for i in exp:\n",
    "            if i.isdigit():\n",
    "                self.push(i)\n",
    "            else:\n",
    "                val1 = self.pop()\n",
    "                val2 = self.pop()\n",
    "                self.push(str(eval(val2 + i + val1)))\n",
    " \n",
    "        return int(self.pop())                \n",
    "\n",
    "exp = \"231*+9-\"\n",
    "obj = Evaluate(len(exp))\n",
    "print (\"postfix evaluation: %d\"%(obj.evaluatePostfix(exp)))"
   ]
  },
  {
   "cell_type": "markdown",
   "id": "92d1f002",
   "metadata": {},
   "source": [
    "## Implement a queue using the stack data structure"
   ]
  },
  {
   "cell_type": "code",
   "execution_count": 129,
   "id": "0fc3d7c6",
   "metadata": {},
   "outputs": [
    {
     "name": "stdout",
     "output_type": "stream",
     "text": [
      "1\n",
      "2\n",
      "3\n"
     ]
    }
   ],
   "source": [
    "class Queue:\n",
    "    def __init__(self):\n",
    "        self.s1 = []\n",
    "        self.s2 = []\n",
    "\n",
    "    def enQueue(self, x):\n",
    "        while len(self.s1) != 0:\n",
    "            self.s2.append(self.s1[-1])\n",
    "            self.s1.pop()\n",
    "\n",
    "        self.s1.append(x)\n",
    "        while len(self.s2) != 0:\n",
    "            self.s1.append(self.s2[-1])\n",
    "            self.s2.pop()\n",
    "\n",
    "\n",
    "    def deQueue(self):\n",
    "        if len(self.s1) == 0:\n",
    "            print(\"Q is Empty\")\n",
    "        x = self.s1[-1]\n",
    "        self.s1.pop()\n",
    "        return x\n",
    "\n",
    "\n",
    "q = Queue()\n",
    "q.enQueue(1)\n",
    "q.enQueue(2)\n",
    "q.enQueue(3)\n",
    "print(q.deQueue())\n",
    "print(q.deQueue())\n",
    "print(q.deQueue())"
   ]
  }
 ],
 "metadata": {
  "kernelspec": {
   "display_name": "Python 3 (ipykernel)",
   "language": "python",
   "name": "python3"
  },
  "language_info": {
   "codemirror_mode": {
    "name": "ipython",
    "version": 3
   },
   "file_extension": ".py",
   "mimetype": "text/x-python",
   "name": "python",
   "nbconvert_exporter": "python",
   "pygments_lexer": "ipython3",
   "version": "3.10.1"
  }
 },
 "nbformat": 4,
 "nbformat_minor": 5
}
