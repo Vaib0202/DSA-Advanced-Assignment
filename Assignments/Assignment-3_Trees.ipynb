{
 "cells": [
  {
   "cell_type": "markdown",
   "id": "f49b3bd1",
   "metadata": {},
   "source": [
    "## Implement Binary tree"
   ]
  },
  {
   "cell_type": "code",
   "execution_count": 3,
   "id": "aa2c4497",
   "metadata": {},
   "outputs": [
    {
     "name": "stdout",
     "output_type": "stream",
     "text": [
      "2--1--3\n"
     ]
    }
   ],
   "source": [
    "class Node:\n",
    "    def __init__(self,left,right,data):\n",
    "        self.left=left\n",
    "        self.right=right\n",
    "        self.data=data\n",
    "    \n",
    "    def __str__(self):\n",
    "        return '{}--{}--{}'.format(self.left.data,self.data,self.right.data)\n",
    "    \n",
    "root_node=Node(None,None,\"1\")\n",
    "node1=Node(None,None,\"2\")\n",
    "node2=Node(None,None,\"3\")\n",
    "root_node.left=node1\n",
    "root_node.right=node2\n",
    "print(root_node)"
   ]
  },
  {
   "cell_type": "markdown",
   "id": "e9f16a37",
   "metadata": {},
   "source": [
    "## Find height of a given tree"
   ]
  },
  {
   "cell_type": "code",
   "execution_count": 9,
   "id": "09d684a5",
   "metadata": {},
   "outputs": [
    {
     "name": "stdout",
     "output_type": "stream",
     "text": [
      "Height of tree is 2\n"
     ]
    }
   ],
   "source": [
    "class Node:\n",
    "    def __init__(self, data):\n",
    "        self.data = data\n",
    "        self.left = None\n",
    "        self.right = None\n",
    "\n",
    "def maxDepth(node):\n",
    "    if node is None:\n",
    "        return -1 ;\n",
    "\n",
    "    else :\n",
    "        lDepth = maxDepth(node.left)\n",
    "        rDepth = maxDepth(node.right)\n",
    "\n",
    "        if (lDepth > rDepth):\n",
    "            return lDepth+1\n",
    "        else:\n",
    "            return rDepth+1\n",
    "\n",
    "root = Node(1)\n",
    "root.left = Node(2)\n",
    "root.right = Node(3)\n",
    "root.left.left = Node(4)\n",
    "root.left.right = Node(5)\n",
    "print (\"Height of tree is %d\" %(maxDepth(root)))"
   ]
  },
  {
   "cell_type": "markdown",
   "id": "238a27fa",
   "metadata": {},
   "source": [
    "## Perform Pre-order, Post-order, In-order traversal"
   ]
  },
  {
   "cell_type": "code",
   "execution_count": 10,
   "id": "ff9c7c9a",
   "metadata": {},
   "outputs": [
    {
     "name": "stdout",
     "output_type": "stream",
     "text": [
      "Inorder traversal \n",
      "4->2->5->1->3->\n",
      "Preorder traversal \n",
      "1->2->4->5->3->\n",
      "Postorder traversal \n",
      "4->5->2->3->1->"
     ]
    }
   ],
   "source": [
    "class Node:\n",
    "    def __init__(self, item):\n",
    "        self.left = None\n",
    "        self.right = None\n",
    "        self.val = item\n",
    "\n",
    "def inorder(root):\n",
    "    if root:\n",
    "        inorder(root.left)\n",
    "        print(str(root.val) + \"->\", end='')\n",
    "        inorder(root.right)\n",
    "\n",
    "\n",
    "def postorder(root):\n",
    "    if root:\n",
    "        postorder(root.left)\n",
    "        postorder(root.right)\n",
    "        print(str(root.val) + \"->\", end='')\n",
    "\n",
    "\n",
    "def preorder(root):\n",
    "    if root:\n",
    "        print(str(root.val) + \"->\", end='')\n",
    "        preorder(root.left)\n",
    "        preorder(root.right)\n",
    "\n",
    "\n",
    "root = Node(1)\n",
    "root.left = Node(2)\n",
    "root.right = Node(3)\n",
    "root.left.left = Node(4)\n",
    "root.left.right = Node(5)\n",
    "\n",
    "print(\"Inorder traversal \")\n",
    "inorder(root)\n",
    "\n",
    "print(\"\\nPreorder traversal \")\n",
    "preorder(root)\n",
    "\n",
    "print(\"\\nPostorder traversal \")\n",
    "postorder(root)"
   ]
  },
  {
   "cell_type": "markdown",
   "id": "e51dde90",
   "metadata": {},
   "source": [
    "## Function to print all the leaves in a given binary tree"
   ]
  },
  {
   "cell_type": "code",
   "execution_count": 11,
   "id": "f201eda2",
   "metadata": {},
   "outputs": [
    {
     "name": "stdout",
     "output_type": "stream",
     "text": [
      "4 6 7 9 10 "
     ]
    }
   ],
   "source": [
    "class Node:  \n",
    "    def __init__(self, data):\n",
    "        self.data = data\n",
    "        self.left = None\n",
    "        self.right = None\n",
    "        \n",
    "def printLeafNodes(root: Node) -> None:\n",
    "    if (not root):\n",
    "        return\n",
    "    if (not root.left and\n",
    "        not root.right):\n",
    "        print(root.data,\n",
    "              end = \" \")\n",
    "        return\n",
    "    \n",
    "    if root.left:\n",
    "        printLeafNodes(root.left)\n",
    " \n",
    "    if root.right:\n",
    "        printLeafNodes(root.right)\n",
    " \n",
    " \n",
    "root = Node(1)\n",
    "root.left = Node(2)\n",
    "root.right = Node(3)\n",
    "root.left.left = Node(4)\n",
    "root.right.left = Node(5)\n",
    "root.right.right = Node(8)\n",
    "root.right.left.left = Node(6)\n",
    "root.right.left.right = Node(7)\n",
    "root.right.right.left = Node(9)\n",
    "root.right.right.right = Node(10)\n",
    " \n",
    "printLeafNodes(root)"
   ]
  },
  {
   "cell_type": "markdown",
   "id": "98749f7c",
   "metadata": {},
   "source": [
    "## Implement BFS (Breath First Search) and DFS (Depth First Search)"
   ]
  },
  {
   "cell_type": "code",
   "execution_count": 12,
   "id": "73167c4b",
   "metadata": {},
   "outputs": [
    {
     "name": "stdout",
     "output_type": "stream",
     "text": [
      "Following is Breadth First Traversal: \n",
      "0 1 2 3 "
     ]
    }
   ],
   "source": [
    "import collections\n",
    "def bfs(graph, root):\n",
    "    visited, queue = set(), collections.deque([root])\n",
    "    visited.add(root)\n",
    "\n",
    "    while queue:\n",
    "        vertex = queue.popleft()\n",
    "        print(str(vertex) + \" \", end=\"\")\n",
    "        \n",
    "        for neighbour in graph[vertex]:\n",
    "            if neighbour not in visited:\n",
    "                visited.add(neighbour)\n",
    "                queue.append(neighbour)\n",
    "\n",
    "\n",
    "graph = {0: [1, 2], 1: [2], 2: [3], 3: [1, 2]}\n",
    "print(\"Following is Breadth First Traversal: \")\n",
    "bfs(graph, 0)"
   ]
  },
  {
   "cell_type": "code",
   "execution_count": 13,
   "id": "c59af641",
   "metadata": {},
   "outputs": [
    {
     "name": "stdout",
     "output_type": "stream",
     "text": [
      "0\n",
      "1\n",
      "3\n",
      "4\n",
      "2\n",
      "2\n"
     ]
    },
    {
     "data": {
      "text/plain": [
       "{'0', '1', '2', '3', '4'}"
      ]
     },
     "execution_count": 13,
     "metadata": {},
     "output_type": "execute_result"
    }
   ],
   "source": [
    "def dfs(graph, start, visited=None):\n",
    "    if visited is None:\n",
    "        visited = set()\n",
    "    visited.add(start)\n",
    "\n",
    "    print(start)\n",
    "\n",
    "    for next in graph[start] - visited:\n",
    "        dfs(graph, next, visited)\n",
    "    return visited\n",
    "\n",
    "\n",
    "graph = {'0': set(['1', '2']),\n",
    "         '1': set(['0', '3', '4']),\n",
    "         '2': set(['0']),\n",
    "         '3': set(['1']),\n",
    "         '4': set(['2', '3'])}\n",
    "\n",
    "dfs(graph, '0')"
   ]
  },
  {
   "cell_type": "markdown",
   "id": "4402ea3b",
   "metadata": {},
   "source": [
    "## Find sum of all left leaves in a given Binary Tree"
   ]
  },
  {
   "cell_type": "code",
   "execution_count": 14,
   "id": "28ae6aae",
   "metadata": {},
   "outputs": [
    {
     "name": "stdout",
     "output_type": "stream",
     "text": [
      "Sum of left leaves is 58\n"
     ]
    }
   ],
   "source": [
    "class Node:\n",
    "    def __init__(self, key):\n",
    "        self.key = key\n",
    "        self.left = None\n",
    "        self.right = None\n",
    "\n",
    "def isLeaf(node):\n",
    "    if node is None:\n",
    "        return False\n",
    "    if node.left is None and node.right is None:\n",
    "        return True\n",
    "    return False\n",
    "\n",
    "def leftLeavesSum(root):\n",
    "    res = 0\n",
    "    if root is not None:\n",
    "        if isLeaf(root.left):\n",
    "            res += root.left.key\n",
    "            \n",
    "        else:\n",
    "            res += leftLeavesSum(root.left)\n",
    "     \n",
    "        res += leftLeavesSum(root.right)\n",
    "    return res\n",
    "\n",
    "root = Node(20)\n",
    "root.left = Node(9)\n",
    "root.right = Node(49)\n",
    "root.right.left = Node(3)       \n",
    "root.right.right = Node(52)\n",
    "root.right.right.left = Node(50)\n",
    "root.left.left = Node(5)\n",
    "root.left.right = Node(12)\n",
    "root.left.right.right = Node(12)\n",
    "print (\"Sum of left leaves is\", leftLeavesSum(root))"
   ]
  },
  {
   "cell_type": "markdown",
   "id": "6e0c67d3",
   "metadata": {},
   "source": [
    "## Find sum of all nodes of the given perfect binary tree"
   ]
  },
  {
   "cell_type": "code",
   "execution_count": 15,
   "id": "51d6952a",
   "metadata": {},
   "outputs": [
    {
     "name": "stdout",
     "output_type": "stream",
     "text": [
      "30\n"
     ]
    }
   ],
   "source": [
    "def SumNodes(l):\n",
    "    leafNodeCount = pow(2, l - 1)\n",
    "    vec = [[] for i in range(l)]\n",
    "\n",
    "    for i in range(1, leafNodeCount + 1):\n",
    "        vec[l - 1].append(i)\n",
    "\n",
    "    for i in range(l - 2, -1, -1):\n",
    "        k = 0\n",
    "        while (k < len(vec[i + 1]) - 1):\n",
    "            vec[i].append(vec[i + 1][k] + vec[i + 1][k + 1])\n",
    "            k += 2\n",
    "    Sum = 0\n",
    "    \n",
    "    for i in range(l):\n",
    "        for j in range(len(vec[i])):\n",
    "            Sum += vec[i][j]\n",
    " \n",
    "    return Sum\n",
    "\n",
    "l = 3\n",
    "print(SumNodes(l))"
   ]
  },
  {
   "cell_type": "markdown",
   "id": "ef9a85f0",
   "metadata": {},
   "source": [
    "## Count subtress that sum up to a given value x in a binary tree"
   ]
  },
  {
   "cell_type": "code",
   "execution_count": 16,
   "id": "b5491a33",
   "metadata": {},
   "outputs": [
    {
     "name": "stdout",
     "output_type": "stream",
     "text": [
      "Count = 2\n"
     ]
    }
   ],
   "source": [
    "class getNode:\n",
    "    def __init__(self, data):\n",
    "        self.data = data\n",
    "        self.left = self.right = None     \n",
    "\n",
    "def countSubtreesWithSumX(root, count, x):\n",
    "    if (not root):\n",
    "        return 0\n",
    "    ls = countSubtreesWithSumX(root.left, count, x)\n",
    "    rs = countSubtreesWithSumX(root.right, count, x)\n",
    "    Sum = ls + rs + root.data\n",
    " \n",
    "    if (Sum == x):\n",
    "        count[0] += 1\n",
    " \n",
    "    return Sum\n",
    " \n",
    "def countSubtreesWithSumXUtil(root, x):\n",
    "    if (not root):\n",
    "        return 0\n",
    " \n",
    "    count = [0]\n",
    "    ls = countSubtreesWithSumX(root.left, count, x)\n",
    "    rs = countSubtreesWithSumX(root.right, count, x)\n",
    "    if ((ls + rs + root.data) == x):\n",
    "        count[0] += 1\n",
    " \n",
    "    return count[0]\n",
    " \n",
    "\n",
    "root = getNode(5)\n",
    "root.left = getNode(-10)\n",
    "root.right = getNode(3)\n",
    "root.left.left = getNode(9)\n",
    "root.left.right = getNode(8)\n",
    "root.right.left = getNode(-4)\n",
    "root.right.right = getNode(7)\n",
    "\n",
    "x = 7\n",
    " \n",
    "print(\"Count =\", countSubtreesWithSumXUtil(root, x))"
   ]
  },
  {
   "cell_type": "markdown",
   "id": "08853dcb",
   "metadata": {},
   "source": [
    "## Find maximum level sum in Binary Tree"
   ]
  },
  {
   "cell_type": "code",
   "execution_count": 17,
   "id": "ed3eb4d8",
   "metadata": {},
   "outputs": [
    {
     "name": "stdout",
     "output_type": "stream",
     "text": [
      "Maximum level sum is 17\n"
     ]
    }
   ],
   "source": [
    "from collections import deque\n",
    "\n",
    "class Node:\n",
    "    def __init__(self, key):\n",
    "        self.data = key\n",
    "        self.left = None\n",
    "        self.right = None\n",
    "\n",
    "def maxLevelSum(root):\n",
    "    if (root == None):\n",
    "        return 0\n",
    "    result = root.data\n",
    "    \n",
    "    q = deque()\n",
    "    q.append(root)\n",
    "     \n",
    "    while (len(q) > 0):\n",
    "        count = len(q)\n",
    "        sum = 0\n",
    "        while (count > 0):\n",
    "            temp = q.popleft()\n",
    "            sum = sum + temp.data\n",
    "            \n",
    "            if (temp.left != None):\n",
    "                q.append(temp.left)\n",
    "            if (temp.right != None):\n",
    "                q.append(temp.right)  \n",
    "            count -= 1   \n",
    "    \n",
    "        result = max(sum, result)\n",
    "    return result\n",
    "     \n",
    "root = Node(1)\n",
    "root.left = Node(2)\n",
    "root.right = Node(3)\n",
    "root.left.left = Node(4)\n",
    "root.left.right = Node(5)\n",
    "root.right.right = Node(8)\n",
    "root.right.right.left = Node(6)\n",
    "root.right.right.right = Node(7)\n",
    "print(\"Maximum level sum is\", maxLevelSum(root))"
   ]
  },
  {
   "cell_type": "markdown",
   "id": "6983eba5",
   "metadata": {},
   "source": [
    "## Print the nodes at odd levels of a tree"
   ]
  },
  {
   "cell_type": "code",
   "execution_count": 18,
   "id": "f503a6a0",
   "metadata": {},
   "outputs": [
    {
     "name": "stdout",
     "output_type": "stream",
     "text": [
      "1 4 5 "
     ]
    }
   ],
   "source": [
    "class newNode: \n",
    "    def __init__(self, data): \n",
    "        self.data = data  \n",
    "        self.left = self.right = None\n",
    "\n",
    "def printOddNodes(root, isOdd = True): \n",
    "    if (root == None):  \n",
    "        return\n",
    "    \n",
    "    if (isOdd):  \n",
    "        print(root.data, end = \" \") \n",
    "  \n",
    "    printOddNodes(root.left, not isOdd)  \n",
    "    printOddNodes(root.right, not isOdd) \n",
    "\n",
    "root = newNode(1)  \n",
    "root.left = newNode(2)  \n",
    "root.right = newNode(3)  \n",
    "root.left.left = newNode(4)  \n",
    "root.left.right = newNode(5)  \n",
    "printOddNodes(root) "
   ]
  }
 ],
 "metadata": {
  "kernelspec": {
   "display_name": "Python 3 (ipykernel)",
   "language": "python",
   "name": "python3"
  },
  "language_info": {
   "codemirror_mode": {
    "name": "ipython",
    "version": 3
   },
   "file_extension": ".py",
   "mimetype": "text/x-python",
   "name": "python",
   "nbconvert_exporter": "python",
   "pygments_lexer": "ipython3",
   "version": "3.10.1"
  }
 },
 "nbformat": 4,
 "nbformat_minor": 5
}
